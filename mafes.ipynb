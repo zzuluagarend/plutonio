{
 "cells": [
  {
   "cell_type": "code",
   "execution_count": 1,
   "id": "b638da1e",
   "metadata": {},
   "outputs": [],
   "source": [
    "import pandas as pd\n",
    "import numpy as np\n",
    "import matplotlib.pyplot as plt\n",
    "import seaborn as sns\n",
    "from inspect import signature\n",
    "\n",
    "from sql_queries.query_mafes import query_mafe_experiments\n",
    "from sql_queries.query_mafes_category import query_mafe_experiments_category\n",
    "from sql_queries.query import query_mafe_imp\n",
    "\n",
    "from analystcommunity import read_connection_data_warehouse\n",
    "from analystcommunity import write_connection_data_warehouse\n",
    "from demandplanning_forecast_context.ForecastContext import ForecastContext"
   ]
  },
  {
   "cell_type": "markdown",
   "id": "0aadab80",
   "metadata": {},
   "source": [
    "## Correr MAFE"
   ]
  },
  {
   "cell_type": "code",
   "execution_count": 3,
   "id": "c4a38f69",
   "metadata": {},
   "outputs": [],
   "source": [
    "# Variables para cargar el cálculo de MAFE\n",
    "\n",
    "country = 'CO'\n",
    "region_code = 'BOG'\n",
    "warehouse = 'ALQ'\n",
    "dates = pd.read_csv(\"days.csv\", index_col=0)\n",
    "dates['date'] = pd.to_datetime(dates['date'])\n",
    "days = 40\n",
    "dataset_id = 55"
   ]
  },
  {
   "cell_type": "code",
   "execution_count": 25,
   "id": "a495a722",
   "metadata": {},
   "outputs": [],
   "source": [
    "df_mafe = pd.DataFrame()\n",
    "for date in dates.iloc[:,0]:\n",
    "    query = query_mafe_experiments(country, region_code, warehouse, str(date.date()), days, dataset_id)\n",
    "    df = read_connection_data_warehouse.run_read_prod_query(query)\n",
    "    df_mafe = df_mafe.append(df)"
   ]
  },
  {
   "cell_type": "code",
   "execution_count": 3,
   "id": "0d2fc3a7",
   "metadata": {},
   "outputs": [],
   "source": [
    "#df_mafe.to_csv('analysis_167.csv')\n",
    "#df_mafe.to_csv('analysis_165.csv')\n",
    "#df_mafe.to_csv('analysis_55.csv')"
   ]
  },
  {
   "cell_type": "code",
   "execution_count": null,
   "id": "b302368d",
   "metadata": {},
   "outputs": [],
   "source": [
    "df_mafe = pd.read_csv('analysis_55.csv', index_col=0)"
   ]
  },
  {
   "cell_type": "code",
   "execution_count": null,
   "id": "e7ad05d1",
   "metadata": {},
   "outputs": [],
   "source": [
    "df = df_mafe.groupby(['timeframe']).mean().reset_index()"
   ]
  },
  {
   "cell_type": "code",
   "execution_count": null,
   "id": "e2349930",
   "metadata": {},
   "outputs": [],
   "source": [
    "df3.to_csv('data_55_t12.csv')"
   ]
  },
  {
   "cell_type": "code",
   "execution_count": null,
   "id": "a7eb3034",
   "metadata": {},
   "outputs": [],
   "source": [
    "# Preparar data para prueba\n",
    "\n",
    "df2 = df[df['timeframe']==2]\n",
    "list(df2.iloc[0,1:])"
   ]
  },
  {
   "cell_type": "code",
   "execution_count": null,
   "id": "5738056b",
   "metadata": {},
   "outputs": [],
   "source": [
    "y = list(df2.iloc[0,1:])\n",
    "a = [0,1,0,1,0,1,0,1]\n",
    "b = [0,0,1,1,0,0,1,1]\n",
    "c = [0,0,0,0,1,1,1,1]\n",
    "d = [0,1,1,0,1,0,0,1]\n",
    "af = [-1,1,-1,1,-1,1,-1,1]\n",
    "bf = [-1,-1,1,1,-1,-1,1,1]\n",
    "cf = [-1,-1,-1,-1,1,1,1,1]\n",
    "df = [-1,1,1,-1,1,-1,-1,1]\n",
    "zipped = list(zip(y,a,b,c,d,af,bf,cf,df))\n",
    "zipped"
   ]
  },
  {
   "cell_type": "code",
   "execution_count": null,
   "id": "3d3e1c87",
   "metadata": {},
   "outputs": [],
   "source": [
    "df3 = pd.DataFrame(zipped, columns=['y','a','b','c','d','af','bf','cf','df'])"
   ]
  },
  {
   "cell_type": "code",
   "execution_count": null,
   "id": "af2d1205",
   "metadata": {},
   "outputs": [],
   "source": []
  },
  {
   "cell_type": "markdown",
   "id": "3f117bd5",
   "metadata": {},
   "source": [
    "## Productos en que mejora\n",
    "### (incompleto)"
   ]
  },
  {
   "cell_type": "code",
   "execution_count": 5,
   "id": "5cf1cf54",
   "metadata": {},
   "outputs": [],
   "source": [
    "df_mafe = pd.DataFrame()\n",
    "for date in dates.iloc[:,0]:\n",
    "    query = query_mafe_imp(country, region_code, warehouse, str(date.date()), days, dataset_id)\n",
    "    df = read_connection_data_warehouse.run_read_prod_query(query)\n",
    "    df_mafe = df_mafe.append(df)"
   ]
  },
  {
   "cell_type": "code",
   "execution_count": null,
   "id": "43049225",
   "metadata": {},
   "outputs": [],
   "source": [
    "df_mafe.groupby(['timeframe']).sum()"
   ]
  },
  {
   "cell_type": "code",
   "execution_count": 12,
   "id": "f7844f71",
   "metadata": {},
   "outputs": [],
   "source": [
    "df_mafe['better'] = np.where(df_mafe['mafe_exp6']>df_mafe['mafe_exp5'],1,0)"
   ]
  },
  {
   "cell_type": "code",
   "execution_count": 2,
   "id": "222b7c97",
   "metadata": {},
   "outputs": [],
   "source": [
    "df_mafe.groupby(['timeframe',])"
   ]
  },
  {
   "cell_type": "code",
   "execution_count": 24,
   "id": "e5f97768",
   "metadata": {},
   "outputs": [],
   "source": []
  },
  {
   "cell_type": "markdown",
   "id": "2d959d50",
   "metadata": {},
   "source": [
    "### Category"
   ]
  },
  {
   "cell_type": "code",
   "execution_count": 39,
   "id": "ea916689",
   "metadata": {},
   "outputs": [],
   "source": [
    "country = 'BR'\n",
    "region_code = 'SPO'\n",
    "warehouse = 'STA'\n",
    "dates = pd.read_csv(\"days.csv\", index_col=0)\n",
    "dates['date'] = pd.to_datetime(dates['date'])\n",
    "days = 40\n",
    "dataset_id = 167\n",
    "category = 'FRUVER'"
   ]
  },
  {
   "cell_type": "code",
   "execution_count": 40,
   "id": "7c3fa3dc",
   "metadata": {},
   "outputs": [],
   "source": [
    "df_mafe = pd.DataFrame()\n",
    "for date in dates.iloc[:,0]:\n",
    "    query = query_mafe_experiments_category(country, region_code, warehouse, str(date.date()), days, dataset_id, category)\n",
    "    df = read_connection_data_warehouse.run_read_prod_query(query)\n",
    "    df_mafe = df_mafe.append(df)"
   ]
  },
  {
   "cell_type": "code",
   "execution_count": 41,
   "id": "fd4b2660",
   "metadata": {},
   "outputs": [],
   "source": [
    "df_mafe.to_csv('analysis_167_fruver.csv')\n",
    "#df_mafe.to_csv('analysis_165_fruver.csv')\n",
    "#df_mafe.to_csv('analysis_55_fruver.csv')"
   ]
  },
  {
   "cell_type": "code",
   "execution_count": 42,
   "id": "4d708312",
   "metadata": {},
   "outputs": [],
   "source": [
    "#df_mafe = pd.read_csv('analysis_167_fruver.csv', index_col=0)\n",
    "df = df_mafe.groupby(['timeframe']).mean().reset_index()\n",
    "df2 = df[df['timeframe']==2]"
   ]
  },
  {
   "cell_type": "code",
   "execution_count": 43,
   "id": "06ceade6",
   "metadata": {},
   "outputs": [],
   "source": [
    "y = list(df2.iloc[0,1:])\n",
    "a = [0,1,0,1,0,1,0,1]\n",
    "b = [0,0,1,1,0,0,1,1]\n",
    "c = [0,0,0,0,1,1,1,1]\n",
    "d = [0,1,1,0,1,0,0,1]\n",
    "af = [-1,1,-1,1,-1,1,-1,1]\n",
    "bf = [-1,-1,1,1,-1,-1,1,1]\n",
    "cf = [-1,-1,-1,-1,1,1,1,1]\n",
    "df = [-1,1,1,-1,1,-1,-1,1]\n",
    "zipped = list(zip(y,a,b,c,d,af,bf,cf,df))\n",
    "\n",
    "df3 = pd.DataFrame(zipped, columns=['y','a','b','c','d','af','bf','cf','df'])"
   ]
  },
  {
   "cell_type": "code",
   "execution_count": 44,
   "id": "cefaaa8d",
   "metadata": {},
   "outputs": [
    {
     "data": {
      "text/html": [
       "<div>\n",
       "<style scoped>\n",
       "    .dataframe tbody tr th:only-of-type {\n",
       "        vertical-align: middle;\n",
       "    }\n",
       "\n",
       "    .dataframe tbody tr th {\n",
       "        vertical-align: top;\n",
       "    }\n",
       "\n",
       "    .dataframe thead th {\n",
       "        text-align: right;\n",
       "    }\n",
       "</style>\n",
       "<table border=\"1\" class=\"dataframe\">\n",
       "  <thead>\n",
       "    <tr style=\"text-align: right;\">\n",
       "      <th></th>\n",
       "      <th>y</th>\n",
       "      <th>a</th>\n",
       "      <th>b</th>\n",
       "      <th>c</th>\n",
       "      <th>d</th>\n",
       "      <th>af</th>\n",
       "      <th>bf</th>\n",
       "      <th>cf</th>\n",
       "      <th>df</th>\n",
       "    </tr>\n",
       "  </thead>\n",
       "  <tbody>\n",
       "    <tr>\n",
       "      <th>0</th>\n",
       "      <td>17.768094</td>\n",
       "      <td>0</td>\n",
       "      <td>0</td>\n",
       "      <td>0</td>\n",
       "      <td>0</td>\n",
       "      <td>-1</td>\n",
       "      <td>-1</td>\n",
       "      <td>-1</td>\n",
       "      <td>-1</td>\n",
       "    </tr>\n",
       "    <tr>\n",
       "      <th>1</th>\n",
       "      <td>18.562267</td>\n",
       "      <td>1</td>\n",
       "      <td>0</td>\n",
       "      <td>0</td>\n",
       "      <td>1</td>\n",
       "      <td>1</td>\n",
       "      <td>-1</td>\n",
       "      <td>-1</td>\n",
       "      <td>1</td>\n",
       "    </tr>\n",
       "    <tr>\n",
       "      <th>2</th>\n",
       "      <td>18.614301</td>\n",
       "      <td>0</td>\n",
       "      <td>1</td>\n",
       "      <td>0</td>\n",
       "      <td>1</td>\n",
       "      <td>-1</td>\n",
       "      <td>1</td>\n",
       "      <td>-1</td>\n",
       "      <td>1</td>\n",
       "    </tr>\n",
       "    <tr>\n",
       "      <th>3</th>\n",
       "      <td>17.225677</td>\n",
       "      <td>1</td>\n",
       "      <td>1</td>\n",
       "      <td>0</td>\n",
       "      <td>0</td>\n",
       "      <td>1</td>\n",
       "      <td>1</td>\n",
       "      <td>-1</td>\n",
       "      <td>-1</td>\n",
       "    </tr>\n",
       "    <tr>\n",
       "      <th>4</th>\n",
       "      <td>18.632070</td>\n",
       "      <td>0</td>\n",
       "      <td>0</td>\n",
       "      <td>1</td>\n",
       "      <td>1</td>\n",
       "      <td>-1</td>\n",
       "      <td>-1</td>\n",
       "      <td>1</td>\n",
       "      <td>1</td>\n",
       "    </tr>\n",
       "    <tr>\n",
       "      <th>5</th>\n",
       "      <td>17.294586</td>\n",
       "      <td>1</td>\n",
       "      <td>0</td>\n",
       "      <td>1</td>\n",
       "      <td>0</td>\n",
       "      <td>1</td>\n",
       "      <td>-1</td>\n",
       "      <td>1</td>\n",
       "      <td>-1</td>\n",
       "    </tr>\n",
       "    <tr>\n",
       "      <th>6</th>\n",
       "      <td>17.239576</td>\n",
       "      <td>0</td>\n",
       "      <td>1</td>\n",
       "      <td>1</td>\n",
       "      <td>0</td>\n",
       "      <td>-1</td>\n",
       "      <td>1</td>\n",
       "      <td>1</td>\n",
       "      <td>-1</td>\n",
       "    </tr>\n",
       "    <tr>\n",
       "      <th>7</th>\n",
       "      <td>18.599999</td>\n",
       "      <td>1</td>\n",
       "      <td>1</td>\n",
       "      <td>1</td>\n",
       "      <td>1</td>\n",
       "      <td>1</td>\n",
       "      <td>1</td>\n",
       "      <td>1</td>\n",
       "      <td>1</td>\n",
       "    </tr>\n",
       "  </tbody>\n",
       "</table>\n",
       "</div>"
      ],
      "text/plain": [
       "           y  a  b  c  d  af  bf  cf  df\n",
       "0  17.768094  0  0  0  0  -1  -1  -1  -1\n",
       "1  18.562267  1  0  0  1   1  -1  -1   1\n",
       "2  18.614301  0  1  0  1  -1   1  -1   1\n",
       "3  17.225677  1  1  0  0   1   1  -1  -1\n",
       "4  18.632070  0  0  1  1  -1  -1   1   1\n",
       "5  17.294586  1  0  1  0   1  -1   1  -1\n",
       "6  17.239576  0  1  1  0  -1   1   1  -1\n",
       "7  18.599999  1  1  1  1   1   1   1   1"
      ]
     },
     "execution_count": 44,
     "metadata": {},
     "output_type": "execute_result"
    }
   ],
   "source": [
    "df3.to_csv('data_167_fruver.csv')\n",
    "df3"
   ]
  },
  {
   "cell_type": "markdown",
   "id": "438cab43",
   "metadata": {},
   "source": [
    "## Comparaciones"
   ]
  },
  {
   "cell_type": "code",
   "execution_count": 10,
   "id": "7964ae0c",
   "metadata": {},
   "outputs": [],
   "source": [
    "df_mafe = pd.read_csv('analysis_165.csv', index_col=0)"
   ]
  },
  {
   "cell_type": "code",
   "execution_count": 11,
   "id": "6a722e16",
   "metadata": {},
   "outputs": [],
   "source": [
    "df = df_mafe.groupby(['timeframe']).mean().reset_index()"
   ]
  },
  {
   "cell_type": "code",
   "execution_count": 12,
   "id": "92c94d56",
   "metadata": {},
   "outputs": [],
   "source": [
    "df['comp'] = df['mafe_exp6'] - df['mafe_exp5']"
   ]
  },
  {
   "cell_type": "code",
   "execution_count": 26,
   "id": "665840fe",
   "metadata": {},
   "outputs": [
    {
     "data": {
      "text/plain": [
       "timeframe    15.500000\n",
       "mafe_exp1    53.954352\n",
       "mafe_exp2    47.325630\n",
       "mafe_exp3    47.255348\n",
       "mafe_exp4    57.315190\n",
       "mafe_exp5    43.161182\n",
       "mafe_exp6    48.210555\n",
       "mafe_exp7    44.449381\n",
       "mafe_exp8    43.562724\n",
       "comp          5.049374\n",
       "dtype: float64"
      ]
     },
     "execution_count": 26,
     "metadata": {},
     "output_type": "execute_result"
    }
   ],
   "source": [
    "df_mafe = pd.read_csv('analysis_165.csv', index_col=0)\n",
    "df = df_mafe.groupby(['timeframe']).mean().reset_index()\n",
    "df['comp'] = df['mafe_exp6'] - df['mafe_exp5']\n",
    "df.mean()"
   ]
  }
 ],
 "metadata": {
  "kernelspec": {
   "display_name": "Python 3",
   "language": "python",
   "name": "python3"
  },
  "language_info": {
   "codemirror_mode": {
    "name": "ipython",
    "version": 3
   },
   "file_extension": ".py",
   "mimetype": "text/x-python",
   "name": "python",
   "nbconvert_exporter": "python",
   "pygments_lexer": "ipython3",
   "version": "3.7.9"
  }
 },
 "nbformat": 4,
 "nbformat_minor": 5
}
