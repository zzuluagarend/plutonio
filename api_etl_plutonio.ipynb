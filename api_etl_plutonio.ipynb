{
 "cells": [
  {
   "cell_type": "code",
   "execution_count": 3,
   "id": "207ffa01",
   "metadata": {},
   "outputs": [],
   "source": [
    "import pandas as pd\n",
    "import numpy as np\n",
    "import matplotlib.pyplot as plt\n",
    "import seaborn as sns\n",
    "\n",
    "from analystcommunity import read_connection_data_warehouse\n",
    "from analystcommunity import write_connection_data_warehouse\n",
    "\n",
    "from etl_functions import run_demand_plutonio"
   ]
  },
  {
   "cell_type": "code",
   "execution_count": null,
   "id": "9ea0182c",
   "metadata": {},
   "outputs": [],
   "source": [
    "country = 'CO'\n",
    "dataset_id = 165"
   ]
  },
  {
   "cell_type": "code",
   "execution_count": null,
   "id": "efd86980",
   "metadata": {},
   "outputs": [],
   "source": [
    "run_demand_plutonio(country, dataset_id, inital_load=False)"
   ]
  },
  {
   "cell_type": "code",
   "execution_count": 2,
   "id": "73428f0a",
   "metadata": {},
   "outputs": [],
   "source": [
    "#df_165 = pd.read_csv('dataset_165.csv', index_col=0)\n",
    "#df_167 = pd.read_csv('dataset_167.csv', index_col=0)\n",
    "#df_55 = pd.read_csv('dataset_55.csv', index_col=0)"
   ]
  },
  {
   "cell_type": "code",
   "execution_count": null,
   "id": "bc0b25a8",
   "metadata": {},
   "outputs": [],
   "source": []
  },
  {
   "cell_type": "code",
   "execution_count": null,
   "id": "86ba95e7",
   "metadata": {},
   "outputs": [],
   "source": []
  }
 ],
 "metadata": {
  "kernelspec": {
   "display_name": "Python 3",
   "language": "python",
   "name": "python3"
  },
  "language_info": {
   "codemirror_mode": {
    "name": "ipython",
    "version": 3
   },
   "file_extension": ".py",
   "mimetype": "text/x-python",
   "name": "python",
   "nbconvert_exporter": "python",
   "pygments_lexer": "ipython3",
   "version": "3.7.9"
  }
 },
 "nbformat": 4,
 "nbformat_minor": 5
}
